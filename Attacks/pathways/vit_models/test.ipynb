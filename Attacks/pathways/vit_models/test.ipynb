{
 "cells": [
  {
   "cell_type": "code",
   "execution_count": 13,
   "metadata": {},
   "outputs": [
    {
     "data": {
      "text/plain": [
       "dict_keys(['epoch', 'model_state', 'optimizer_state', 'cfg'])"
      ]
     },
     "execution_count": 13,
     "metadata": {},
     "output_type": "execute_result"
    }
   ],
   "source": [
    "import torch\n",
    "model = torch.load('../../pretrained_video_models/i3d/ucf/checkpoint_epoch_00120.pyth')"
   ]
  },
  {
   "cell_type": "code",
   "execution_count": 14,
   "metadata": {},
   "outputs": [
    {
     "data": {
      "text/plain": [
       "odict_keys(['s1.pathway0_stem.conv.weight', 's1.pathway0_stem.bn.weight', 's1.pathway0_stem.bn.bias', 's1.pathway0_stem.bn.running_mean', 's1.pathway0_stem.bn.running_var', 's1.pathway0_stem.bn.num_batches_tracked', 's2.pathway0_res0.branch1.weight', 's2.pathway0_res0.branch1_bn.weight', 's2.pathway0_res0.branch1_bn.bias', 's2.pathway0_res0.branch1_bn.running_mean', 's2.pathway0_res0.branch1_bn.running_var', 's2.pathway0_res0.branch1_bn.num_batches_tracked', 's2.pathway0_res0.branch2.a.weight', 's2.pathway0_res0.branch2.a_bn.weight', 's2.pathway0_res0.branch2.a_bn.bias', 's2.pathway0_res0.branch2.a_bn.running_mean', 's2.pathway0_res0.branch2.a_bn.running_var', 's2.pathway0_res0.branch2.a_bn.num_batches_tracked', 's2.pathway0_res0.branch2.b.weight', 's2.pathway0_res0.branch2.b_bn.weight', 's2.pathway0_res0.branch2.b_bn.bias', 's2.pathway0_res0.branch2.b_bn.running_mean', 's2.pathway0_res0.branch2.b_bn.running_var', 's2.pathway0_res0.branch2.b_bn.num_batches_tracked', 's2.pathway0_res0.branch2.c.weight', 's2.pathway0_res0.branch2.c_bn.weight', 's2.pathway0_res0.branch2.c_bn.bias', 's2.pathway0_res0.branch2.c_bn.running_mean', 's2.pathway0_res0.branch2.c_bn.running_var', 's2.pathway0_res0.branch2.c_bn.num_batches_tracked', 's2.pathway0_res1.branch2.a.weight', 's2.pathway0_res1.branch2.a_bn.weight', 's2.pathway0_res1.branch2.a_bn.bias', 's2.pathway0_res1.branch2.a_bn.running_mean', 's2.pathway0_res1.branch2.a_bn.running_var', 's2.pathway0_res1.branch2.a_bn.num_batches_tracked', 's2.pathway0_res1.branch2.b.weight', 's2.pathway0_res1.branch2.b_bn.weight', 's2.pathway0_res1.branch2.b_bn.bias', 's2.pathway0_res1.branch2.b_bn.running_mean', 's2.pathway0_res1.branch2.b_bn.running_var', 's2.pathway0_res1.branch2.b_bn.num_batches_tracked', 's2.pathway0_res1.branch2.c.weight', 's2.pathway0_res1.branch2.c_bn.weight', 's2.pathway0_res1.branch2.c_bn.bias', 's2.pathway0_res1.branch2.c_bn.running_mean', 's2.pathway0_res1.branch2.c_bn.running_var', 's2.pathway0_res1.branch2.c_bn.num_batches_tracked', 's2.pathway0_res2.branch2.a.weight', 's2.pathway0_res2.branch2.a_bn.weight', 's2.pathway0_res2.branch2.a_bn.bias', 's2.pathway0_res2.branch2.a_bn.running_mean', 's2.pathway0_res2.branch2.a_bn.running_var', 's2.pathway0_res2.branch2.a_bn.num_batches_tracked', 's2.pathway0_res2.branch2.b.weight', 's2.pathway0_res2.branch2.b_bn.weight', 's2.pathway0_res2.branch2.b_bn.bias', 's2.pathway0_res2.branch2.b_bn.running_mean', 's2.pathway0_res2.branch2.b_bn.running_var', 's2.pathway0_res2.branch2.b_bn.num_batches_tracked', 's2.pathway0_res2.branch2.c.weight', 's2.pathway0_res2.branch2.c_bn.weight', 's2.pathway0_res2.branch2.c_bn.bias', 's2.pathway0_res2.branch2.c_bn.running_mean', 's2.pathway0_res2.branch2.c_bn.running_var', 's2.pathway0_res2.branch2.c_bn.num_batches_tracked', 's3.pathway0_res0.branch1.weight', 's3.pathway0_res0.branch1_bn.weight', 's3.pathway0_res0.branch1_bn.bias', 's3.pathway0_res0.branch1_bn.running_mean', 's3.pathway0_res0.branch1_bn.running_var', 's3.pathway0_res0.branch1_bn.num_batches_tracked', 's3.pathway0_res0.branch2.a.weight', 's3.pathway0_res0.branch2.a_bn.weight', 's3.pathway0_res0.branch2.a_bn.bias', 's3.pathway0_res0.branch2.a_bn.running_mean', 's3.pathway0_res0.branch2.a_bn.running_var', 's3.pathway0_res0.branch2.a_bn.num_batches_tracked', 's3.pathway0_res0.branch2.b.weight', 's3.pathway0_res0.branch2.b_bn.weight', 's3.pathway0_res0.branch2.b_bn.bias', 's3.pathway0_res0.branch2.b_bn.running_mean', 's3.pathway0_res0.branch2.b_bn.running_var', 's3.pathway0_res0.branch2.b_bn.num_batches_tracked', 's3.pathway0_res0.branch2.c.weight', 's3.pathway0_res0.branch2.c_bn.weight', 's3.pathway0_res0.branch2.c_bn.bias', 's3.pathway0_res0.branch2.c_bn.running_mean', 's3.pathway0_res0.branch2.c_bn.running_var', 's3.pathway0_res0.branch2.c_bn.num_batches_tracked', 's3.pathway0_res1.branch2.a.weight', 's3.pathway0_res1.branch2.a_bn.weight', 's3.pathway0_res1.branch2.a_bn.bias', 's3.pathway0_res1.branch2.a_bn.running_mean', 's3.pathway0_res1.branch2.a_bn.running_var', 's3.pathway0_res1.branch2.a_bn.num_batches_tracked', 's3.pathway0_res1.branch2.b.weight', 's3.pathway0_res1.branch2.b_bn.weight', 's3.pathway0_res1.branch2.b_bn.bias', 's3.pathway0_res1.branch2.b_bn.running_mean', 's3.pathway0_res1.branch2.b_bn.running_var', 's3.pathway0_res1.branch2.b_bn.num_batches_tracked', 's3.pathway0_res1.branch2.c.weight', 's3.pathway0_res1.branch2.c_bn.weight', 's3.pathway0_res1.branch2.c_bn.bias', 's3.pathway0_res1.branch2.c_bn.running_mean', 's3.pathway0_res1.branch2.c_bn.running_var', 's3.pathway0_res1.branch2.c_bn.num_batches_tracked', 's3.pathway0_res2.branch2.a.weight', 's3.pathway0_res2.branch2.a_bn.weight', 's3.pathway0_res2.branch2.a_bn.bias', 's3.pathway0_res2.branch2.a_bn.running_mean', 's3.pathway0_res2.branch2.a_bn.running_var', 's3.pathway0_res2.branch2.a_bn.num_batches_tracked', 's3.pathway0_res2.branch2.b.weight', 's3.pathway0_res2.branch2.b_bn.weight', 's3.pathway0_res2.branch2.b_bn.bias', 's3.pathway0_res2.branch2.b_bn.running_mean', 's3.pathway0_res2.branch2.b_bn.running_var', 's3.pathway0_res2.branch2.b_bn.num_batches_tracked', 's3.pathway0_res2.branch2.c.weight', 's3.pathway0_res2.branch2.c_bn.weight', 's3.pathway0_res2.branch2.c_bn.bias', 's3.pathway0_res2.branch2.c_bn.running_mean', 's3.pathway0_res2.branch2.c_bn.running_var', 's3.pathway0_res2.branch2.c_bn.num_batches_tracked', 's3.pathway0_res3.branch2.a.weight', 's3.pathway0_res3.branch2.a_bn.weight', 's3.pathway0_res3.branch2.a_bn.bias', 's3.pathway0_res3.branch2.a_bn.running_mean', 's3.pathway0_res3.branch2.a_bn.running_var', 's3.pathway0_res3.branch2.a_bn.num_batches_tracked', 's3.pathway0_res3.branch2.b.weight', 's3.pathway0_res3.branch2.b_bn.weight', 's3.pathway0_res3.branch2.b_bn.bias', 's3.pathway0_res3.branch2.b_bn.running_mean', 's3.pathway0_res3.branch2.b_bn.running_var', 's3.pathway0_res3.branch2.b_bn.num_batches_tracked', 's3.pathway0_res3.branch2.c.weight', 's3.pathway0_res3.branch2.c_bn.weight', 's3.pathway0_res3.branch2.c_bn.bias', 's3.pathway0_res3.branch2.c_bn.running_mean', 's3.pathway0_res3.branch2.c_bn.running_var', 's3.pathway0_res3.branch2.c_bn.num_batches_tracked', 's4.pathway0_res0.branch1.weight', 's4.pathway0_res0.branch1_bn.weight', 's4.pathway0_res0.branch1_bn.bias', 's4.pathway0_res0.branch1_bn.running_mean', 's4.pathway0_res0.branch1_bn.running_var', 's4.pathway0_res0.branch1_bn.num_batches_tracked', 's4.pathway0_res0.branch2.a.weight', 's4.pathway0_res0.branch2.a_bn.weight', 's4.pathway0_res0.branch2.a_bn.bias', 's4.pathway0_res0.branch2.a_bn.running_mean', 's4.pathway0_res0.branch2.a_bn.running_var', 's4.pathway0_res0.branch2.a_bn.num_batches_tracked', 's4.pathway0_res0.branch2.b.weight', 's4.pathway0_res0.branch2.b_bn.weight', 's4.pathway0_res0.branch2.b_bn.bias', 's4.pathway0_res0.branch2.b_bn.running_mean', 's4.pathway0_res0.branch2.b_bn.running_var', 's4.pathway0_res0.branch2.b_bn.num_batches_tracked', 's4.pathway0_res0.branch2.c.weight', 's4.pathway0_res0.branch2.c_bn.weight', 's4.pathway0_res0.branch2.c_bn.bias', 's4.pathway0_res0.branch2.c_bn.running_mean', 's4.pathway0_res0.branch2.c_bn.running_var', 's4.pathway0_res0.branch2.c_bn.num_batches_tracked', 's4.pathway0_res1.branch2.a.weight', 's4.pathway0_res1.branch2.a_bn.weight', 's4.pathway0_res1.branch2.a_bn.bias', 's4.pathway0_res1.branch2.a_bn.running_mean', 's4.pathway0_res1.branch2.a_bn.running_var', 's4.pathway0_res1.branch2.a_bn.num_batches_tracked', 's4.pathway0_res1.branch2.b.weight', 's4.pathway0_res1.branch2.b_bn.weight', 's4.pathway0_res1.branch2.b_bn.bias', 's4.pathway0_res1.branch2.b_bn.running_mean', 's4.pathway0_res1.branch2.b_bn.running_var', 's4.pathway0_res1.branch2.b_bn.num_batches_tracked', 's4.pathway0_res1.branch2.c.weight', 's4.pathway0_res1.branch2.c_bn.weight', 's4.pathway0_res1.branch2.c_bn.bias', 's4.pathway0_res1.branch2.c_bn.running_mean', 's4.pathway0_res1.branch2.c_bn.running_var', 's4.pathway0_res1.branch2.c_bn.num_batches_tracked', 's4.pathway0_res2.branch2.a.weight', 's4.pathway0_res2.branch2.a_bn.weight', 's4.pathway0_res2.branch2.a_bn.bias', 's4.pathway0_res2.branch2.a_bn.running_mean', 's4.pathway0_res2.branch2.a_bn.running_var', 's4.pathway0_res2.branch2.a_bn.num_batches_tracked', 's4.pathway0_res2.branch2.b.weight', 's4.pathway0_res2.branch2.b_bn.weight', 's4.pathway0_res2.branch2.b_bn.bias', 's4.pathway0_res2.branch2.b_bn.running_mean', 's4.pathway0_res2.branch2.b_bn.running_var', 's4.pathway0_res2.branch2.b_bn.num_batches_tracked', 's4.pathway0_res2.branch2.c.weight', 's4.pathway0_res2.branch2.c_bn.weight', 's4.pathway0_res2.branch2.c_bn.bias', 's4.pathway0_res2.branch2.c_bn.running_mean', 's4.pathway0_res2.branch2.c_bn.running_var', 's4.pathway0_res2.branch2.c_bn.num_batches_tracked', 's4.pathway0_res3.branch2.a.weight', 's4.pathway0_res3.branch2.a_bn.weight', 's4.pathway0_res3.branch2.a_bn.bias', 's4.pathway0_res3.branch2.a_bn.running_mean', 's4.pathway0_res3.branch2.a_bn.running_var', 's4.pathway0_res3.branch2.a_bn.num_batches_tracked', 's4.pathway0_res3.branch2.b.weight', 's4.pathway0_res3.branch2.b_bn.weight', 's4.pathway0_res3.branch2.b_bn.bias', 's4.pathway0_res3.branch2.b_bn.running_mean', 's4.pathway0_res3.branch2.b_bn.running_var', 's4.pathway0_res3.branch2.b_bn.num_batches_tracked', 's4.pathway0_res3.branch2.c.weight', 's4.pathway0_res3.branch2.c_bn.weight', 's4.pathway0_res3.branch2.c_bn.bias', 's4.pathway0_res3.branch2.c_bn.running_mean', 's4.pathway0_res3.branch2.c_bn.running_var', 's4.pathway0_res3.branch2.c_bn.num_batches_tracked', 's4.pathway0_res4.branch2.a.weight', 's4.pathway0_res4.branch2.a_bn.weight', 's4.pathway0_res4.branch2.a_bn.bias', 's4.pathway0_res4.branch2.a_bn.running_mean', 's4.pathway0_res4.branch2.a_bn.running_var', 's4.pathway0_res4.branch2.a_bn.num_batches_tracked', 's4.pathway0_res4.branch2.b.weight', 's4.pathway0_res4.branch2.b_bn.weight', 's4.pathway0_res4.branch2.b_bn.bias', 's4.pathway0_res4.branch2.b_bn.running_mean', 's4.pathway0_res4.branch2.b_bn.running_var', 's4.pathway0_res4.branch2.b_bn.num_batches_tracked', 's4.pathway0_res4.branch2.c.weight', 's4.pathway0_res4.branch2.c_bn.weight', 's4.pathway0_res4.branch2.c_bn.bias', 's4.pathway0_res4.branch2.c_bn.running_mean', 's4.pathway0_res4.branch2.c_bn.running_var', 's4.pathway0_res4.branch2.c_bn.num_batches_tracked', 's4.pathway0_res5.branch2.a.weight', 's4.pathway0_res5.branch2.a_bn.weight', 's4.pathway0_res5.branch2.a_bn.bias', 's4.pathway0_res5.branch2.a_bn.running_mean', 's4.pathway0_res5.branch2.a_bn.running_var', 's4.pathway0_res5.branch2.a_bn.num_batches_tracked', 's4.pathway0_res5.branch2.b.weight', 's4.pathway0_res5.branch2.b_bn.weight', 's4.pathway0_res5.branch2.b_bn.bias', 's4.pathway0_res5.branch2.b_bn.running_mean', 's4.pathway0_res5.branch2.b_bn.running_var', 's4.pathway0_res5.branch2.b_bn.num_batches_tracked', 's4.pathway0_res5.branch2.c.weight', 's4.pathway0_res5.branch2.c_bn.weight', 's4.pathway0_res5.branch2.c_bn.bias', 's4.pathway0_res5.branch2.c_bn.running_mean', 's4.pathway0_res5.branch2.c_bn.running_var', 's4.pathway0_res5.branch2.c_bn.num_batches_tracked', 's5.pathway0_res0.branch1.weight', 's5.pathway0_res0.branch1_bn.weight', 's5.pathway0_res0.branch1_bn.bias', 's5.pathway0_res0.branch1_bn.running_mean', 's5.pathway0_res0.branch1_bn.running_var', 's5.pathway0_res0.branch1_bn.num_batches_tracked', 's5.pathway0_res0.branch2.a.weight', 's5.pathway0_res0.branch2.a_bn.weight', 's5.pathway0_res0.branch2.a_bn.bias', 's5.pathway0_res0.branch2.a_bn.running_mean', 's5.pathway0_res0.branch2.a_bn.running_var', 's5.pathway0_res0.branch2.a_bn.num_batches_tracked', 's5.pathway0_res0.branch2.b.weight', 's5.pathway0_res0.branch2.b_bn.weight', 's5.pathway0_res0.branch2.b_bn.bias', 's5.pathway0_res0.branch2.b_bn.running_mean', 's5.pathway0_res0.branch2.b_bn.running_var', 's5.pathway0_res0.branch2.b_bn.num_batches_tracked', 's5.pathway0_res0.branch2.c.weight', 's5.pathway0_res0.branch2.c_bn.weight', 's5.pathway0_res0.branch2.c_bn.bias', 's5.pathway0_res0.branch2.c_bn.running_mean', 's5.pathway0_res0.branch2.c_bn.running_var', 's5.pathway0_res0.branch2.c_bn.num_batches_tracked', 's5.pathway0_res1.branch2.a.weight', 's5.pathway0_res1.branch2.a_bn.weight', 's5.pathway0_res1.branch2.a_bn.bias', 's5.pathway0_res1.branch2.a_bn.running_mean', 's5.pathway0_res1.branch2.a_bn.running_var', 's5.pathway0_res1.branch2.a_bn.num_batches_tracked', 's5.pathway0_res1.branch2.b.weight', 's5.pathway0_res1.branch2.b_bn.weight', 's5.pathway0_res1.branch2.b_bn.bias', 's5.pathway0_res1.branch2.b_bn.running_mean', 's5.pathway0_res1.branch2.b_bn.running_var', 's5.pathway0_res1.branch2.b_bn.num_batches_tracked', 's5.pathway0_res1.branch2.c.weight', 's5.pathway0_res1.branch2.c_bn.weight', 's5.pathway0_res1.branch2.c_bn.bias', 's5.pathway0_res1.branch2.c_bn.running_mean', 's5.pathway0_res1.branch2.c_bn.running_var', 's5.pathway0_res1.branch2.c_bn.num_batches_tracked', 's5.pathway0_res2.branch2.a.weight', 's5.pathway0_res2.branch2.a_bn.weight', 's5.pathway0_res2.branch2.a_bn.bias', 's5.pathway0_res2.branch2.a_bn.running_mean', 's5.pathway0_res2.branch2.a_bn.running_var', 's5.pathway0_res2.branch2.a_bn.num_batches_tracked', 's5.pathway0_res2.branch2.b.weight', 's5.pathway0_res2.branch2.b_bn.weight', 's5.pathway0_res2.branch2.b_bn.bias', 's5.pathway0_res2.branch2.b_bn.running_mean', 's5.pathway0_res2.branch2.b_bn.running_var', 's5.pathway0_res2.branch2.b_bn.num_batches_tracked', 's5.pathway0_res2.branch2.c.weight', 's5.pathway0_res2.branch2.c_bn.weight', 's5.pathway0_res2.branch2.c_bn.bias', 's5.pathway0_res2.branch2.c_bn.running_mean', 's5.pathway0_res2.branch2.c_bn.running_var', 's5.pathway0_res2.branch2.c_bn.num_batches_tracked', 'headsl.projection.weight', 'headsl.projection.bias'])"
      ]
     },
     "execution_count": 14,
     "metadata": {},
     "output_type": "execute_result"
    },
    {
     "ename": "",
     "evalue": "",
     "output_type": "error",
     "traceback": [
      "The Kernel crashed while executing code in the the current cell or a previous cell. Please review the code in the cell(s) to identify a possible cause of the failure. Click <a href='https://aka.ms/vscodeJupyterKernelCrash'>here</a> for more info. View Jupyter <a href='command:jupyter.viewOutput'>log</a> for further details."
     ]
    }
   ],
   "source": [
    "model['model_state'].keys()"
   ]
  },
  {
   "cell_type": "code",
   "execution_count": null,
   "metadata": {},
   "outputs": [],
   "source": []
  }
 ],
 "metadata": {
  "kernelspec": {
   "display_name": "Python 3.7.13 64-bit ('adv_time')",
   "language": "python",
   "name": "python3"
  },
  "language_info": {
   "codemirror_mode": {
    "name": "ipython",
    "version": 3
   },
   "file_extension": ".py",
   "mimetype": "text/x-python",
   "name": "python",
   "nbconvert_exporter": "python",
   "pygments_lexer": "ipython3",
   "version": "3.7.13"
  },
  "orig_nbformat": 4,
  "vscode": {
   "interpreter": {
    "hash": "d1575ee82d394047b56e81f71158463ee20d270d4f1227bc04bbf836c8363a91"
   }
  }
 },
 "nbformat": 4,
 "nbformat_minor": 2
}
